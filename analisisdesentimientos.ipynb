{
 "cells": [
  {
   "cell_type": "code",
   "execution_count": 2,
   "metadata": {},
   "outputs": [],
   "source": [
    "import tweepy\n",
    "\n",
    "CONSUMER_KEY = \"8CwYZK4OiPzanM37Zr6AmsWMp\"\n",
    "CONSUMER_SECRET = \"YKQFJJ6F3j57lZUWYakWD4OVq7C3sSN2IioGHsXYb4nFCbFq0G\"\n",
    "ACCESS_TOKEN = \"3257201272-frIpMEIOQLgW4lypnLiZw9yCtUoUjZykTM0g9Kw\"\n",
    "ACCESS_TOKEN_SECRET = \"5qKU38TOSjHHQWnEajwUGDoi0hP4k7cSYp2HgRhhcXl76\"\n",
    "\n",
    "auth = tweepy.OAuthHandler(CONSUMER_KEY, CONSUMER_SECRET)\n",
    "auth.set_access_token(ACCESS_TOKEN, ACCESS_TOKEN_SECRET)\n",
    "\n",
    "api = tweepy.API(auth)"
   ]
  },
  {
   "cell_type": "code",
   "execution_count": 3,
   "metadata": {},
   "outputs": [
    {
     "data": {
      "text/plain": [
       "u'.Hello world... how these?'"
      ]
     },
     "execution_count": 3,
     "metadata": {},
     "output_type": "execute_result"
    }
   ],
   "source": [
    "### TRADUCTOR!!!!!!!!!!!!!!!!!!\n",
    "import requests\n",
    "def Traduccion(source, target, text):\n",
    "    parametros = {'sl': source, 'tl': target, 'q': text}\n",
    "    cabeceras = {\"Charset\":\"UTF-8\",\"User-Agent\":\"AndroidTranslate/5.3.0.RC02.130475354-53000263 5.1 phone TRANSLATE_OPM5_TEST_1\"}\n",
    "    url = \"https://translate.google.com/translate_a/single?client=at&dt=t&dt=ld&dt=qca&dt=rm&dt=bd&dj=1&hl=es-ES&ie=UTF-8&oe=UTF-8&inputm=2&otf=2&iid=1dd3b944-fa62-4b55-b330-74909a99969e\"\n",
    "    response = requests.post(url, data=parametros, headers=cabeceras)\n",
    "    if response.status_code == 200:\n",
    "        for x in response.json()['sentences']:\n",
    "            return x['trans']\n",
    "    else:\n",
    "        return \"Ocurrió un error\"\n",
    "\n",
    "\n",
    "def _traducir (texto):\n",
    "    nuevo_texto=\"\"\n",
    "    i = 0\n",
    "    for t in texto.split(\" \"):\n",
    "        t = Traduccion(\"es\", \"en\", t)\n",
    "        if (i == 0 ):\n",
    "            nuevo_texto = nuevo_texto + t\n",
    "            i+=1\n",
    "        else:\n",
    "            nuevo_texto = nuevo_texto + \" \" + t\n",
    "        \n",
    "    return nuevo_texto\n",
    "    \n",
    "_traducir(\".hola mundo... como estas?\")"
   ]
  },
  {
   "cell_type": "code",
   "execution_count": 4,
   "metadata": {},
   "outputs": [],
   "source": [
    "import matplotlib.pyplot as plt\n",
    "import numpy as np"
   ]
  },
  {
   "cell_type": "code",
   "execution_count": 9,
   "metadata": {},
   "outputs": [],
   "source": [
    "from textblob import TextBlob\n",
    "\n",
    "def get_stuff(nombre=None):\n",
    "    stuff = tweepy.Cursor(api.user_timeline, screen_name = nombre, include_rts = True,tweet_mode='extended')\n",
    "    return stuff\n",
    "\n",
    "\n",
    "def get_tweets(stuff, n , traducir):\n",
    "    \n",
    "    lista1 = []\n",
    "    lista2 = []\n",
    "    i = 0\n",
    "    for status in stuff.items(n):\n",
    "        pos_count = 0.0\n",
    "        pos_correct = 0.0\n",
    "\n",
    "        neg_count = 0\n",
    "        neg_correct = 0\n",
    "        \n",
    "        #print(status.created_at, status.author.screen_name, status.text)\n",
    "        i += 1\n",
    "        print (\"\\n\\nTWEET NUMERO : \", i, \"***********************************************\")\n",
    "        \n",
    "        print (\"\\n\\nNombre :\\n\\n\", status.author.screen_name )\n",
    "        texto = status.full_text\n",
    "        if traducir:\n",
    "            print (\"\\nantes   =\", texto)\n",
    "            texto = _traducir(texto)\n",
    "            print (\"\\ndespues =\", texto)\n",
    "        else:\n",
    "            print (\"\\ntweet :\\n\\n\", texto)\n",
    "            \n",
    "        for text in texto.split('\\n' or ','):\n",
    "            analysis = TextBlob(text)\n",
    "            if analysis.sentiment.polarity > 0:\n",
    "                pos_correct += 1\n",
    "            pos_count +=1\n",
    "            \n",
    "            if analysis.sentiment.polarity <= 0:\n",
    "                neg_correct += 1\n",
    "            neg_count +=1\n",
    "            \n",
    "        print(\"\\nSentimiento positivo = \",(pos_correct/pos_count)*100.0, \"%\")\n",
    "        lista1.append((pos_correct/pos_count)*100.0)\n",
    "        print(\"Sentimiento negativo = \",(neg_correct/neg_count)*100.0 ,\"%\")\n",
    "        lista2.append((neg_correct/neg_count)*100.0)\n",
    "    \n",
    "    lista1 = lista1[::-1]\n",
    "    plt.plot(lista1)\n",
    "    plt.title(\"SENTIMIENTO POSITIVO\")\n",
    "    plt.ylabel(\"positivo\")\n",
    "    plt.xlabel(\"instancias de emociones\")\n",
    "    plt.show()\n",
    "    \n",
    "    lista2 = lista2[::-1]\n",
    "    plt.plot(lista2)\n",
    "    plt.title(\"SENTIMIENTO NEGATIVO\")\n",
    "    plt.ylabel(\"negativo\")\n",
    "    plt.xlabel(\"instancias de emociones\")\n",
    "    plt.show()\n",
    "    print (\"lista 1 = \", lista1)\n",
    "    print (\"lista 2 = \", lista2)\n",
    "        \n"
   ]
  },
  {
   "cell_type": "code",
   "execution_count": 10,
   "metadata": {
    "scrolled": false
   },
   "outputs": [
    {
     "name": "stdout",
     "output_type": "stream",
     "text": [
      "Cuantos tweets desea obtener: 3\n",
      "('\\n\\nTWEET NUMERO : ', 1, '***********************************************')\n",
      "('\\n\\nNombre :\\n\\n', u'nashnisman')\n",
      "('\\nantes   =', u'RT @NASAInSight: The mole is digging deeper into #Mars thanks to the tremendous efforts by my team. Unofficial depth is ~38 cm down in the\\u2026')\n",
      "('\\ndespues =', u'RT @NASAInSight: The mass is digging deeper into #Mars thanks to the tremendous efforts by my team. Unofficial depth is ~ 38 cm down in the ...')\n",
      "('\\nSentimiento positivo = ', 100.0, '%')\n",
      "('Sentimiento negativo = ', 0.0, '%')\n",
      "('\\n\\nTWEET NUMERO : ', 2, '***********************************************')\n",
      "('\\n\\nNombre :\\n\\n', u'nashnisman')\n",
      "('\\nantes   =', u'hola amigos como est\\xe1n, estoy feliz, estoy haciendo una prueba')\n",
      "('\\ndespues =', u'Hello friends how is it so, am happy, am doing a proof')\n",
      "('\\nSentimiento positivo = ', 100.0, '%')\n",
      "('Sentimiento negativo = ', 0.0, '%')\n",
      "('\\n\\nTWEET NUMERO : ', 3, '***********************************************')\n",
      "('\\n\\nNombre :\\n\\n', u'nashnisman')\n",
      "('\\nantes   =', u'RT @PeterDiamandis: Exponential + XMAS... Wishing a Merry Christmas to all Intelligence, both Biological and Digital. And, I truly hope tha\\u2026')\n",
      "('\\ndespues =', u'RT @PeterDiamandis: Exponential + XMAS ... Wishing to Merry Christmas to there Intelligence, both Biological and Digital. And, I truly hope tha ...')\n",
      "('\\nSentimiento positivo = ', 0.0, '%')\n",
      "('Sentimiento negativo = ', 100.0, '%')\n"
     ]
    },
    {
     "data": {
      "image/png": "[encoded data removed]",
      "text/plain": [
       "<Figure size 432x288 with 1 Axes>"
      ]
     },
     "metadata": {
      "needs_background": "light"
     },
     "output_type": "display_data"
    },
    {
     "data": {
      "image/png": "[encoded data removed]",
      "text/plain": [
       "<Figure size 432x288 with 1 Axes>"
      ]
     },
     "metadata": {
      "needs_background": "light"
     },
     "output_type": "display_data"
    },
    {
     "name": "stdout",
     "output_type": "stream",
     "text": [
      "('lista 1 = ', [0.0, 100.0, 100.0])\n",
      "('lista 2 = ', [100.0, 0.0, 0.0])\n"
     ]
    }
   ],
   "source": [
    "##################################### OBTENER TWEETS DESDE MI PROPIO PERFIL ############\n",
    "traducir = True\n",
    "\n",
    "n = int(input('Cuantos tweets desea obtener: '))\n",
    "stuff = get_stuff()\n",
    "get_tweets(stuff, n , traducir)"
   ]
  },
  {
   "cell_type": "code",
   "execution_count": null,
   "metadata": {
    "scrolled": false
   },
   "outputs": [],
   "source": []
  },
  {
   "cell_type": "code",
   "execution_count": null,
   "metadata": {},
   "outputs": [],
   "source": []
  }
 ],
 "metadata": {
  "kernelspec": {
   "display_name": "Python 2",
   "language": "python",
   "name": "python2"
  },
  "language_info": {
   "codemirror_mode": {
    "name": "ipython",
    "version": 2
   },
   "file_extension": ".py",
   "mimetype": "text/x-python",
   "name": "python",
   "nbconvert_exporter": "python",
   "pygments_lexer": "ipython2",
   "version": "2.7.16"
  }
 },
 "nbformat": 4,
 "nbformat_minor": 2
}
